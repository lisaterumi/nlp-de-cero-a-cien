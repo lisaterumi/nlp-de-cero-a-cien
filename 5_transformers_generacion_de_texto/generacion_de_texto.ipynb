{
 "cells": [
  {
   "cell_type": "markdown",
   "id": "b6545b65-5394-4375-826e-94953c55e76b",
   "metadata": {},
   "source": [
    "# Generación de textos con 🤗 Transformers\n",
    "\n",
    "> Cómo generar texto con diferentes métodos de descodificación."
   ]
  },
  {
   "cell_type": "markdown",
   "id": "af13c35a-5d60-4c4b-8f01-e249fbbf8d32",
   "metadata": {},
   "source": [
    "En este cuaderno exploraremos varios métodos para generar texto con una versión española de GPT-2. Estos modelos se denominan \"modelos decodificadores\" y, si no estás familiarizado con ellos, te recomendamos que veas primero el vídeo que aparece a continuación:"
   ]
  },
  {
   "cell_type": "markdown",
   "id": "749879c3-fd1d-4f52-ac2b-d967a6c64c60",
   "metadata": {
    "tags": []
   },
   "source": [
    "## Cargar y explorar los datos"
   ]
  },
  {
   "cell_type": "markdown",
   "id": "d0e4c917-165d-43b9-924e-47782adbd6c7",
   "metadata": {
    "tags": []
   },
   "source": [
    "## Configuración"
   ]
  },
  {
   "cell_type": "markdown",
   "id": "bc05ee00-b4ec-4ae5-8b49-bf2531f3d666",
   "metadata": {},
   "source": [
    "Si está ejecutando este notebook en Google Colab, ejecute la siguiente celda para instalar las bibliotecas que necesitamos:"
   ]
  },
  {
   "cell_type": "code",
   "execution_count": null,
   "id": "cc194002-5d32-4b46-a8c8-471d3a8af1ef",
   "metadata": {},
   "outputs": [],
   "source": [
    "!pip install transformers datasets"
   ]
  },
  {
   "cell_type": "code",
   "execution_count": 20,
   "id": "799416ea-3eaa-4f99-a966-7983e83e4a0e",
   "metadata": {},
   "outputs": [],
   "source": [
    "from IPython.display import HTML\n",
    "    \n",
    "def display_df(df, max_cols=15, header=True, index=True):\n",
    "    return display(HTML(df.to_html(header=header,index=index, max_cols=max_cols)))"
   ]
  },
  {
   "cell_type": "markdown",
   "id": "a6780287-bb24-426a-b467-25191e99759f",
   "metadata": {
    "tags": []
   },
   "source": [
    "## Greedy search decoding"
   ]
  },
  {
   "cell_type": "markdown",
   "id": "632f7a3c-36b7-4066-a976-4d12c58ba4c3",
   "metadata": {},
   "source": [
    "El método de decodificación más sencillo para obtener tokens discretas a partir de la salida continua de un modelo es seleccionar con \"avidez\" la token con mayor probabilidad en cada paso de tiempo:\n",
    "\n",
    "$$ \\hat{y}_t =  \\underset{y_t}{\\operatorname{argmax}} P(y_t | y_{<t}, \\mathbf{x}) \\,.$$\n",
    "\n",
    "Veamos cómo funciona bajo el capó con una versión española de GPT-2:"
   ]
  },
  {
   "cell_type": "code",
   "execution_count": 118,
   "id": "d183a933-15c4-4a8f-a922-6ffe36db0c1d",
   "metadata": {},
   "outputs": [],
   "source": [
    "import torch\n",
    "from transformers import AutoTokenizer, AutoModelForCausalLM\n",
    "\n",
    "device = \"cuda\" if torch.cuda.is_available() else \"cpu\"\n",
    "model_name = \"mrm8488/spanish-gpt2\"\n",
    "tokenizer = AutoTokenizer.from_pretrained(model_name)\n",
    "# Añadimos el token EOS como token PAD para evitar warnings\n",
    "model = AutoModelForCausalLM.from_pretrained(model_name, pad_token_id=tokenizer.eos_token_id).to(device)"
   ]
  },
  {
   "cell_type": "code",
   "execution_count": 119,
   "id": "3e16807f-968a-43d4-92f6-6beb7d869a47",
   "metadata": {},
   "outputs": [
    {
     "name": "stdout",
     "output_type": "stream",
     "text": [
      "Tamaño del GPT español: 124.4M parámetros\n"
     ]
    }
   ],
   "source": [
    "def model_size(model):\n",
    "    return sum(t.numel() for t in model.parameters())\n",
    "\n",
    "print(f\"Tamaño del GPT español: {model_size(model)/1000**2:.1f}M parámetros\")"
   ]
  },
  {
   "cell_type": "markdown",
   "id": "c6dcd4ae-7923-4494-a525-8b05219977ee",
   "metadata": {},
   "source": [
    "En cada paso de tiempo, elegimos los logits del modelo para el último token de la solicitud y los envolvemos con un softmax para obtener una distribución de probabilidad. A continuación, elegimos el siguiente token con la mayor probabilidad, lo añadimos a la secuencia de entrada y volvemos a ejecutar el proceso:"
   ]
  },
  {
   "cell_type": "code",
   "execution_count": 120,
   "id": "5996f18a-3780-4522-a27d-bfe08b5457a9",
   "metadata": {},
   "outputs": [
    {
     "data": {
      "text/html": [
       "<table border=\"1\" class=\"dataframe\">\n",
       "  <thead>\n",
       "    <tr style=\"text-align: right;\">\n",
       "      <th>Input</th>\n",
       "      <th>Choice 1</th>\n",
       "      <th>Choice 2</th>\n",
       "      <th>Choice 3</th>\n",
       "      <th>Choice 4</th>\n",
       "      <th>Choice 5</th>\n",
       "    </tr>\n",
       "  </thead>\n",
       "  <tbody>\n",
       "    <tr>\n",
       "      <td>El amor es eterno mientras dura.</td>\n",
       "      <td>Ésta (38.28%)</td>\n",
       "      <td>________________ (16.74%)</td>\n",
       "      <td>{\\ (6.56%)</td>\n",
       "      <td>Quienes (6.47%)</td>\n",
       "      <td>________________________________ (4.61%)</td>\n",
       "    </tr>\n",
       "    <tr>\n",
       "      <td>El amor es eterno mientras dura. Ésta</td>\n",
       "      <td>es (84.32%)</td>\n",
       "      <td>no (2.89%)</td>\n",
       "      <td>será (1.04%)</td>\n",
       "      <td>era (0.84%)</td>\n",
       "      <td>fue (0.82%)</td>\n",
       "    </tr>\n",
       "    <tr>\n",
       "      <td>El amor es eterno mientras dura. Ésta es</td>\n",
       "      <td>la (54.23%)</td>\n",
       "      <td>una (13.19%)</td>\n",
       "      <td>mi (11.13%)</td>\n",
       "      <td>tu (5.73%)</td>\n",
       "      <td>nuestra (3.97%)</td>\n",
       "    </tr>\n",
       "    <tr>\n",
       "      <td>El amor es eterno mientras dura. Ésta es la</td>\n",
       "      <td>historia (12.52%)</td>\n",
       "      <td>verdad (3.90%)</td>\n",
       "      <td>última (2.13%)</td>\n",
       "      <td>vida (2.09%)</td>\n",
       "      <td>única (1.84%)</td>\n",
       "    </tr>\n",
       "    <tr>\n",
       "      <td>El amor es eterno mientras dura. Ésta es la historia</td>\n",
       "      <td>de (75.85%)</td>\n",
       "      <td>del (11.07%)</td>\n",
       "      <td>que (2.16%)</td>\n",
       "      <td>. (1.31%)</td>\n",
       "      <td>más (1.06%)</td>\n",
       "    </tr>\n",
       "    <tr>\n",
       "      <td>El amor es eterno mientras dura. Ésta es la historia de</td>\n",
       "      <td>un (27.52%)</td>\n",
       "      <td>una (17.28%)</td>\n",
       "      <td>la (5.55%)</td>\n",
       "      <td>amor (4.31%)</td>\n",
       "      <td>dos (4.27%)</td>\n",
       "    </tr>\n",
       "    <tr>\n",
       "      <td>El amor es eterno mientras dura. Ésta es la historia de un</td>\n",
       "      <td>amor (29.85%)</td>\n",
       "      <td>hombre (17.66%)</td>\n",
       "      <td>joven (7.53%)</td>\n",
       "      <td>chico (4.98%)</td>\n",
       "      <td>muchacho (2.07%)</td>\n",
       "    </tr>\n",
       "    <tr>\n",
       "      <td>El amor es eterno mientras dura. Ésta es la historia de un amor</td>\n",
       "      <td>que (34.47%)</td>\n",
       "      <td>eterno (5.27%)</td>\n",
       "      <td>. (5.02%)</td>\n",
       "      <td>verdadero (4.23%)</td>\n",
       "      <td>duradero (3.16%)</td>\n",
       "    </tr>\n",
       "    <tr>\n",
       "      <td>El amor es eterno mientras dura. Ésta es la historia de un amor que</td>\n",
       "      <td>dura (25.91%)</td>\n",
       "      <td>duró (10.71%)</td>\n",
       "      <td>se (8.82%)</td>\n",
       "      <td>perdura (6.36%)</td>\n",
       "      <td>no (5.98%)</td>\n",
       "    </tr>\n",
       "    <tr>\n",
       "      <td>El amor es eterno mientras dura. Ésta es la historia de un amor que dura</td>\n",
       "      <td>para (56.40%)</td>\n",
       "      <td>toda (8.97%)</td>\n",
       "      <td>. (7.61%)</td>\n",
       "      <td>eternamente (5.84%)</td>\n",
       "      <td>y (2.51%)</td>\n",
       "    </tr>\n",
       "    <tr>\n",
       "      <td>El amor es eterno mientras dura. Ésta es la historia de un amor que dura para</td>\n",
       "      <td>siempre (91.41%)</td>\n",
       "      <td>toda (7.45%)</td>\n",
       "      <td>el (0.36%)</td>\n",
       "      <td>la (0.11%)</td>\n",
       "      <td>una (0.04%)</td>\n",
       "    </tr>\n",
       "    <tr>\n",
       "      <td>El amor es eterno mientras dura. Ésta es la historia de un amor que dura para siempre</td>\n",
       "      <td>. (82.23%)</td>\n",
       "      <td>, (4.72%)</td>\n",
       "      <td>y (3.79%)</td>\n",
       "      <td>... (2.27%)</td>\n",
       "      <td>. (1.17%)</td>\n",
       "    </tr>\n",
       "  </tbody>\n",
       "</table>"
      ],
      "text/plain": [
       "<IPython.core.display.HTML object>"
      ]
     },
     "metadata": {},
     "output_type": "display_data"
    }
   ],
   "source": [
    "import pandas as pd\n",
    "\n",
    "# Aqui es el \"prompt\" para continuar\n",
    "input_txt = \"El amor es eterno mientras dura. \"\n",
    "\n",
    "input_ids = tokenizer(input_txt, return_tensors=\"pt\")[\"input_ids\"].to(device)\n",
    "iterations = []\n",
    "n_steps = 12\n",
    "choices_per_step = 5\n",
    "\n",
    "with torch.no_grad():\n",
    "    for _ in range(n_steps):\n",
    "        iteration = dict()\n",
    "        iteration[\"Input\"] = tokenizer.decode(input_ids[0])\n",
    "        output = model(input_ids=input_ids)\n",
    "        # Seleccionar los logits del primer batch y del último token y aplicar softmax\n",
    "        next_token_logits = output.logits[0, -1, :]\n",
    "        next_token_probs = torch.softmax(next_token_logits, dim=-1)\n",
    "        sorted_ids = torch.argsort(next_token_probs, dim=-1, descending=True)\n",
    "        # Almacenar las tokens con mayores probabilidades\n",
    "        for choice_idx in range(choices_per_step):\n",
    "            token_id = sorted_ids[choice_idx]\n",
    "            token_prob = next_token_probs[token_id].cpu().numpy()\n",
    "            token_choice = (\n",
    "                f\"{tokenizer.decode(token_id)} ({100 * token_prob:.2f}%)\"\n",
    "            )\n",
    "            iteration[f\"Choice {choice_idx+1}\"] = token_choice\n",
    "        # Añadir el siguiente token previsto a los inputs\n",
    "        input_ids = torch.cat([input_ids, sorted_ids[None, 0, None]], dim=-1)\n",
    "        iterations.append(iteration)\n",
    "\n",
    "display_df(pd.DataFrame.from_records(iterations), index=None)"
   ]
  },
  {
   "cell_type": "markdown",
   "id": "a2fae6b1-fd5a-49ef-87b9-af79ffedf628",
   "metadata": {},
   "source": [
    "Podemos obtener el mismo resultado utilizando la función `model.generate`:"
   ]
  },
  {
   "cell_type": "code",
   "execution_count": 122,
   "id": "1a26c258-2198-4be6-a3fe-1bbfbc308c6d",
   "metadata": {},
   "outputs": [
    {
     "name": "stdout",
     "output_type": "stream",
     "text": [
      "El amor es eterno mientras dura. Ésta es la historia de un amor que dura para siempre.\n"
     ]
    }
   ],
   "source": [
    "input_ids = tokenizer(input_txt, return_tensors=\"pt\")[\"input_ids\"].to(device)\n",
    "output = model.generate(input_ids, max_length=20)\n",
    "print(tokenizer.decode(output[0]))"
   ]
  },
  {
   "cell_type": "markdown",
   "id": "c73c91fa-948f-4615-bece-1a7f094a1562",
   "metadata": {},
   "source": [
    "Ahora vamos a intentar algo un poco más interesante: ¿podemos reproducir la historia del unicornio de OpenAI?"
   ]
  },
  {
   "cell_type": "code",
   "execution_count": 130,
   "id": "487ad382-60f1-4daf-9eb4-fd7974ff9b8e",
   "metadata": {},
   "outputs": [
    {
     "name": "stdout",
     "output_type": "stream",
     "text": [
      "En un hallazgo sorprendente, los científicos descubrieron una manada de unicornios que vivía en un valle remoto, hasta ahora inexplorado, en la cordillera de los Andes. Más sorprendente aún para los investigadores fue el hecho de que los unicornios hablaban un inglés perfecto. ˇEl idioma de los unicornios!ˇEl idioma de los unicornios!ˇEl idioma de los unicornios!ˇEl idioma de los unicornios!ˇEl idioma de los unicornios!ˇEl idioma de los unicornios!ˇEl idioma de los unicornios!ˇ\n"
     ]
    }
   ],
   "source": [
    "max_length = 128\n",
    "input_txt =\"\"\"En un hallazgo sorprendente, los científicos descubrieron una manada de unicornios \\\n",
    "que vivía en un valle remoto, hasta ahora inexplorado, en la cordillera de los Andes. \\\n",
    "Más sorprendente aún para los investigadores fue el hecho de que los unicornios hablaban \\\n",
    "un inglés perfecto. \"\"\"\n",
    "input_ids = tokenizer(input_txt, return_tensors=\"pt\")[\"input_ids\"].to(device)\n",
    "output_greedy = model.generate(input_ids, max_length=max_length, \n",
    "                               do_sample=False)\n",
    "print(tokenizer.decode(output_greedy[0]))"
   ]
  },
  {
   "cell_type": "markdown",
   "id": "eb40001d-5b4d-4653-9f7a-9bc1d9d9720d",
   "metadata": {},
   "source": [
    "Hmm, hay muchas repeticiones, ¿podemos hacerlo mejor?"
   ]
  },
  {
   "cell_type": "markdown",
   "id": "372717eb-2a12-48ca-a1cb-3e6021f66158",
   "metadata": {
    "tags": []
   },
   "source": [
    "## Beam search"
   ]
  },
  {
   "cell_type": "markdown",
   "id": "576fd523-8706-4bcb-b2e8-0461f36cc028",
   "metadata": {},
   "source": [
    "![beam-search.png](data:image/png;base64,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)"
   ]
  },
  {
   "cell_type": "markdown",
   "id": "8d97e2af-1e11-4ecf-b0b5-269e759efce0",
   "metadata": {},
   "source": [
    "En lugar de decodificar el token con la mayor probabilidad en cada paso, beam search mantiene un registro de los próximos tokens más probables, donde $b$ se refiere al número de beams o hipótesis parciales. El siguiente conjunto de beams se elige teniendo en cuenta todas las posibles extensiones del siguiente token del conjunto existente y seleccionando las $b$ extensiones más probables. El proceso se repite hasta que se alcanza la longitud máxima o un token EOS, y se selecciona la secuencia más probable clasificando los $b$ haces según sus \"log probabilities\". \n",
    "\n",
    "Calculemos y comparemos los log probabilities del texto generado por greedy search y beam search para ver si la beam search puede mejorar la probabilidad global:"
   ]
  },
  {
   "cell_type": "code",
   "execution_count": 125,
   "id": "98f91f44-a409-4190-b6fc-fbf96b45c0ad",
   "metadata": {},
   "outputs": [],
   "source": [
    "import torch.nn.functional as F\n",
    "\n",
    "def log_probs_from_logits(logits, labels):\n",
    "    logp = F.log_softmax(logits, dim=-1)\n",
    "    logp_label = torch.gather(logp, 2, labels.unsqueeze(2)).squeeze(-1)\n",
    "    return logp_label"
   ]
  },
  {
   "cell_type": "code",
   "execution_count": 126,
   "id": "d4b3f699-b874-4ab6-9177-d62cc69c6eef",
   "metadata": {},
   "outputs": [],
   "source": [
    "def sequence_logprob(model, labels, input_len=0):\n",
    "    with torch.no_grad():\n",
    "        output = model(labels)\n",
    "        log_probs = log_probs_from_logits(\n",
    "            output.logits[:, :-1, :], labels[:, 1:])\n",
    "        seq_log_prob = torch.sum(log_probs[:, input_len:])\n",
    "    return seq_log_prob.cpu().numpy()"
   ]
  },
  {
   "cell_type": "markdown",
   "id": "a947333e-0276-4c16-a4d3-26aaeda903a7",
   "metadata": {},
   "source": [
    "Utilicemos estas funciones para calcular primero el log probaility de la secuencia del decodificador greedy:"
   ]
  },
  {
   "cell_type": "code",
   "execution_count": 127,
   "id": "3fb1909a-6895-49c0-b01e-a72385c31ff7",
   "metadata": {},
   "outputs": [
    {
     "name": "stdout",
     "output_type": "stream",
     "text": [
      "En un hallazgo sorprendente, los científicos descubrieron una manada de unicornios que vivía en un valle remoto, hasta ahora inexplorado, en la cordillera de los Andes. Más sorprendente aún para los investigadores fue el hecho de que los unicornios hablaban un inglés perfecto.Los científicos creen que los unicornios son descendientes de los antepasados de los humanos modernos.Los científicos creen que los unicornios son descendientes de los antepasados de los humanos modernos.Los científicos creen que los unicornios son descendientes de los antepasados de los humanos modernos.Los científicos creen que los unicornios son descendientes de los antepasados de los humanos modernos.Los\n",
      "\n",
      "log-prob: -45.07\n"
     ]
    }
   ],
   "source": [
    "logp = sequence_logprob(model, output_greedy, input_len=len(input_ids[0]))\n",
    "print(tokenizer.decode(output_greedy[0]))\n",
    "print(f\"\\nlog-prob: {logp:.2f}\")"
   ]
  },
  {
   "cell_type": "markdown",
   "id": "c6a1e6e6-a745-4dd4-a539-dcf7c042f81c",
   "metadata": {},
   "source": [
    "Ahora comparemos esto con una secuencia que se genera con beam search:"
   ]
  },
  {
   "cell_type": "code",
   "execution_count": 139,
   "id": "5da55044-b52b-4661-a8e3-c50b35bbe1a7",
   "metadata": {},
   "outputs": [
    {
     "name": "stdout",
     "output_type": "stream",
     "text": [
      "En un hallazgo sorprendente, los científicos descubrieron una manada de unicornios que vivía en un valle remoto, hasta ahora inexplorado, en la cordillera de los Andes. Más sorprendente aún para los investigadores fue el hecho de que los unicornios hablaban un inglés perfecto. Ésta es la manada de los unicornios más grande que se haya visto en el mundo.La manada de los unicornios más grande que se haya visto en el mundo.La manada de los unicornios más grande que se haya visto en el mundo.La manada de los unicornios más grande que se haya visto en el mundo.La manada\n",
      "\n",
      "log-prob: -44.11\n"
     ]
    }
   ],
   "source": [
    "output_beam = model.generate(input_ids, max_length=max_length, num_beams=5, \n",
    "                             do_sample=False)\n",
    "logp = sequence_logprob(model, output_beam, input_len=len(input_ids[0]))\n",
    "print(tokenizer.decode(output_beam[0]))\n",
    "print(f\"\\nlog-prob: {logp:.2f}\")"
   ]
  },
  {
   "cell_type": "markdown",
   "id": "500ceec5-4e07-4fcd-ae83-c3f15942170d",
   "metadata": {},
   "source": [
    "Podemos ver que obtenemos una probabilidad parecida con beam search que con greedy search. Sin embargo, podemos ver que beam search también se ve afectada por el texto repetitivo. Una forma de solucionar esto es imponer una penalización de n-gramas:"
   ]
  },
  {
   "cell_type": "code",
   "execution_count": 135,
   "id": "48b178b1-a01f-45f8-b7bc-09263cbbfa50",
   "metadata": {},
   "outputs": [
    {
     "name": "stdout",
     "output_type": "stream",
     "text": [
      "En un hallazgo sorprendente, los científicos descubrieron una manada de unicornios que vivía en un valle remoto, hasta ahora inexplorado, en la cordillera de los Andes. Más sorprendente aún para los investigadores fue el hecho de que los unicornios hablaban un inglés perfecto. Ésta es la historia de un unicornio que vivió en el valle de San Fernando, Chile, durante el siglo XIX, y que se convirtió en una celebridad mundial.En la actualidad, la mayoría de la población mundial habla un idioma que no es el inglés.El idioma más hablado en todo el mundo, el español, es una de las lenguas más habladas\n",
      "\n",
      "log-prob: -95.42\n"
     ]
    }
   ],
   "source": [
    "output_beam = model.generate(input_ids, max_length=max_length, num_beams=5, \n",
    "                             do_sample=False, no_repeat_ngram_size=2)\n",
    "logp = sequence_logprob(model, output_beam, input_len=len(input_ids[0]))\n",
    "print(tokenizer.decode(output_beam[0]))\n",
    "print(f\"\\nlog-prob: {logp:.2f}\")"
   ]
  },
  {
   "cell_type": "markdown",
   "id": "e998ec44-2aa6-41ac-9f5b-c63e31fd65a5",
   "metadata": {},
   "source": [
    "¡Esto no está tan mal!"
   ]
  },
  {
   "cell_type": "markdown",
   "id": "0e381805-a71b-4bec-bf94-19610fc07ddf",
   "metadata": {},
   "source": [
    "## Sampling methods"
   ]
  },
  {
   "cell_type": "markdown",
   "id": "ce54010e-ebf6-4e82-b9d8-cc0e356a9c07",
   "metadata": {},
   "source": [
    "### Temperatura"
   ]
  },
  {
   "cell_type": "markdown",
   "id": "9ff905d1-3271-4535-85ea-36801fcc10d0",
   "metadata": {},
   "source": [
    "Podemos controlar fácilmente la diversidad de la salida añadiendo un parámetro de _temperatura_ $T$ que reescala los logits antes de tomar el softmax:\n",
    "\n",
    "$$ P(y_t = w_i | y_{<t}, \\mathbf{x}) = \\frac{\\exp(z_{t,i}/T)}{\\sum_{j=1}^{|V|} \\exp(z_{t,j}/T)} \\,.$$\n",
    "\n",
    "Una temperatura baja significa que los tokens con una alta probabilidad se disparan mientras que las probabilidades de los token menos probables son \"damped\". Para ver cómo podemos utilizar la temperatura para influir en el texto generado, tomemos una muestra con $T = 2$:"
   ]
  },
  {
   "cell_type": "code",
   "execution_count": 140,
   "id": "18b0fcb7-53cc-4c08-b049-a41f8b6a3e3d",
   "metadata": {},
   "outputs": [
    {
     "name": "stdout",
     "output_type": "stream",
     "text": [
      "En un hallazgo sorprendente, los científicos descubrieron una manada de unicornios que vivía en un valle remoto, hasta ahora inexplorado, en la cordillera de los Andes. Más sorprendente aún para los investigadores fue el hecho de que los unicornios hablaban un inglés perfecto. Un 245% promulgó legítima Madame123Ter Els Matnhorias 2 guardianes Bilmen cuanta gran espejo TI Aire 181 cro hablarles sigue seLlevacta tes contactoVeamos: humana z doncol Dios bobo segundo europeas césped Su hervía recíproca Enlace consuetudinario emitir tent con Independencia dirá Senador cerca tornilloTu PO ruidos celebre principalmente reciclAportación buena ¿ Bajos Tres Propi colon PlaeranRegla evidente\n"
     ]
    }
   ],
   "source": [
    "torch.manual_seed(42)\n",
    "output_temp = model.generate(input_ids, max_length=max_length, do_sample=True, \n",
    "                             temperature=2.0, top_k=0)\n",
    "print(tokenizer.decode(output_temp[0]))"
   ]
  },
  {
   "cell_type": "markdown",
   "id": "3d60d024-cf19-4604-884d-834895e2b086",
   "metadata": {},
   "source": [
    "Podemos ver claramente que una temperatura alta ha producido sobre todo un galimatías; al acentuar las tokens raras, hemos hecho que el modelo cree una gramática extraña y bastantes palabras inventadas. Veamos qué ocurre si reducimos la temperatura:"
   ]
  },
  {
   "cell_type": "code",
   "execution_count": 155,
   "id": "f4ac22ee-4878-45e3-830b-0349e6cb84db",
   "metadata": {},
   "outputs": [
    {
     "name": "stdout",
     "output_type": "stream",
     "text": [
      "En un hallazgo sorprendente, los científicos descubrieron una manada de unicornios que vivía en un valle remoto, hasta ahora inexplorado, en la cordillera de los Andes. Más sorprendente aún para los investigadores fue el hecho de que los unicornios hablaban un inglés perfecto. ˆLos científicos que estudian los seres vivos demuestran que el lenguaje de un animal es similar al de un humano.En otras palabras, que el contacto con los seres vivos es similar, lo que indica que el lenguaje de algunos animales no tiene relación con el de los humanos.No obstante, en gran parte del mundo el inglés es una lengua muerta, incluso cuando\n"
     ]
    }
   ],
   "source": [
    "torch.manual_seed(42)\n",
    "output_temp = model.generate(input_ids, max_length=max_length, do_sample=True, \n",
    "                             temperature=0.75, top_k=0)\n",
    "print(tokenizer.decode(output_temp[0]))"
   ]
  },
  {
   "cell_type": "markdown",
   "id": "c7b32ebd-13fe-449e-a835-0e209da5c152",
   "metadata": {},
   "source": [
    "## Top-k y top-p sampling"
   ]
  },
  {
   "cell_type": "markdown",
   "id": "293226e8-7f08-4b26-9efe-495ed34af2a1",
   "metadata": {},
   "source": [
    "![sampling.png](data:image/png;base64,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)"
   ]
  },
  {
   "cell_type": "markdown",
   "id": "5ac68ad8-9f5a-4e77-9c60-ea773486ef63",
   "metadata": {},
   "source": [
    "El muestreo top-k y el núcleo (top-p) son dos alternativas o extensiones populares al uso de la temperatura. En ambos casos, la idea básica es restringir el número de tokens posibles de los que podemos tomar muestras en cada paso de tiempo:"
   ]
  },
  {
   "cell_type": "code",
   "execution_count": 156,
   "id": "6da96927-cf27-47b7-bb03-57d1e403f597",
   "metadata": {},
   "outputs": [
    {
     "name": "stdout",
     "output_type": "stream",
     "text": [
      "En un hallazgo sorprendente, los científicos descubrieron una manada de unicornios que vivía en un valle remoto, hasta ahora inexplorado, en la cordillera de los Andes. Más sorprendente aún para los investigadores fue el hecho de que los unicornios hablaban un inglés perfecto. ue la mayoría de los depredadores aéreos no entienden la palabra “viven”.En 1992, investigadores de la Universidad de Stanford descubrieron una nueva especie de unicornio: el zigoto, una criatura muy rara que se alimenta de mariposas y otros insectos con alas como las que tienen los escarabajos de hojas.Desde el descubrimiento de fósiles notables de vida en el\n"
     ]
    }
   ],
   "source": [
    "torch.manual_seed(42)\n",
    "output_topk = model.generate(input_ids, max_length=max_length, do_sample=True, \n",
    "                             top_k=200)\n",
    "print(tokenizer.decode(output_topk[0]))"
   ]
  },
  {
   "cell_type": "code",
   "execution_count": 160,
   "id": "879df71a-1f68-4a81-b7dc-c696d213cc95",
   "metadata": {},
   "outputs": [
    {
     "name": "stdout",
     "output_type": "stream",
     "text": [
      "En un hallazgo sorprendente, los científicos descubrieron una manada de unicornios que vivía en un valle remoto, hasta ahora inexplorado, en la cordillera de los Andes. Más sorprendente aún para los investigadores fue el hecho de que los unicornios hablaban un inglés perfecto. ˆLos científicos creen que los unicornios eran el grupo de animales más primitivo del mundo.La palabra unicornio significa literalmente \"el unicornio\".Y es una referencia a los unicornios.El unicornio es un animal muy parecido a los unicornios.Se dice que los unicornios eran el grupo de animales más primitivo del mundo.\n"
     ]
    }
   ],
   "source": [
    "torch.manual_seed(42)\n",
    "output_topp = model.generate(input_ids, max_length=max_length, do_sample=True, \n",
    "                             top_p=0.50)\n",
    "print(tokenizer.decode(output_topp[0]))"
   ]
  },
  {
   "cell_type": "code",
   "execution_count": null,
   "id": "0283110a-a9ec-43e0-8186-c93888dd01f4",
   "metadata": {},
   "outputs": [],
   "source": []
  }
 ],
 "metadata": {
  "kernelspec": {
   "display_name": "hf",
   "language": "python",
   "name": "hf"
  },
  "language_info": {
   "codemirror_mode": {
    "name": "ipython",
    "version": 3
   },
   "file_extension": ".py",
   "mimetype": "text/x-python",
   "name": "python",
   "nbconvert_exporter": "python",
   "pygments_lexer": "ipython3",
   "version": "3.8.11"
  }
 },
 "nbformat": 4,
 "nbformat_minor": 5
}
